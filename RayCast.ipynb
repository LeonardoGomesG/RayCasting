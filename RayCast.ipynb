{
  "nbformat": 4,
  "nbformat_minor": 0,
  "metadata": {
    "colab": {
      "name": "RayCast.ipynb",
      "provenance": [],
      "collapsed_sections": [],
      "authorship_tag": "ABX9TyOHmc1Fj1wt4POyFzh2iS95",
      "include_colab_link": true
    },
    "kernelspec": {
      "name": "python3",
      "display_name": "Python 3"
    },
    "language_info": {
      "name": "python"
    }
  },
  "cells": [
    {
      "cell_type": "markdown",
      "metadata": {
        "id": "view-in-github",
        "colab_type": "text"
      },
      "source": [
        "<a href=\"https://colab.research.google.com/github/LeonardoGomesG/RayCasting/blob/main/RayCast.ipynb\" target=\"_parent\"><img src=\"https://colab.research.google.com/assets/colab-badge.svg\" alt=\"Open In Colab\"/></a>"
      ]
    },
    {
      "cell_type": "code",
      "metadata": {
        "id": "sxb-uY_M1TL6"
      },
      "source": [
        "import numpy as np\n",
        "import matplotlib.pyplot as plt\n",
        "\n",
        "def normalize(vector):\n",
        "    return vector / np.linalg.norm(vector)\n",
        "\n",
        "def sphere_intersect(center, radius, ray_origin, ray_direction):\n",
        "    b = 2 * np.dot(ray_direction, ray_origin - center)\n",
        "    c = np.linalg.norm(ray_origin - center) ** 2 - radius ** 2\n",
        "    delta = b ** 2 - 4 * c\n",
        "    if delta > 0:\n",
        "        t1 = (-b + np.sqrt(delta)) / 2\n",
        "        t2 = (-b - np.sqrt(delta)) / 2\n",
        "        if t1 > 0 and t2 > 0:\n",
        "            return min(t1, t2)\n",
        "    return None\n",
        "\n",
        "def nearest_intersected_object(objects, ray_origin, ray_direction):\n",
        "    distances = [sphere_intersect(obj['center'], obj['radius'], ray_origin, ray_direction) for obj in objects]\n",
        "    nearest_object = None\n",
        "    min_distance = np.inf\n",
        "    for index, distance in enumerate(distances):\n",
        "        if distance and distance < min_distance:\n",
        "            min_distance = distance\n",
        "            nearest_object = objects[index]\n",
        "    return nearest_object, min_distance\n",
        "\n",
        "width = 300\n",
        "height = 200\n",
        "\n",
        "camera = np.array([0, 0, 1])\n",
        "ratio = float(width) / height\n",
        "screen = (-1, 1 / ratio, 1, -1 / ratio) # left, top, right, bottom\n",
        "\n",
        "light = { \n",
        "    'position': np.array([5, 5, 5]), \n",
        "    'ambient': np.array([1, 1, 1]), \n",
        "    'diffuse': np.array([1, 1, 1]), \n",
        "    'specular': np.array([1, 1, 1])\n",
        "     }\n",
        "\n",
        "objects = [\n",
        "    { 'center': np.array([-0.2, 0, -1]), 'radius': 0.7, 'ambient': np.array([0.1, 0, 0.1]), 'diffuse': np.array([0.7, 0, 0.7]), 'specular': np.array([1, 1, 1]), 'shininess': 100 },\n",
        "]\n",
        "\n",
        "image = np.zeros((height, width, 3))\n",
        "for i, y in enumerate(np.linspace(screen[1], screen[3], height)):\n",
        "    for j, x in enumerate(np.linspace(screen[0], screen[2], width)):\n",
        "        pixel = np.array([x, y, 0])\n",
        "        origin = camera\n",
        "        direction = normalize(pixel - origin)\n",
        "\n",
        "        # check for intersections\n",
        "        nearest_object, min_distance = nearest_intersected_object(objects, origin, direction)\n",
        "        if nearest_object is None:\n",
        "            continue\n",
        "\n",
        "        # compute intersection point between ray and nearest object\n",
        "        intersection = origin + min_distance * direction\n",
        "        normal_to_surface = normalize(intersection - nearest_object['center'])\n",
        "        shifted_point = intersection + 1e-5 * normal_to_surface\n",
        "        intersection_to_light = normalize(light['position'] - shifted_point)\n",
        "\n",
        "        # RGB\n",
        "        illumination = np.zeros((3))\n",
        "\n",
        "        # ambiant\n",
        "        illumination += nearest_object['ambient'] * light['ambient']\n",
        "\n",
        "        # diffuse\n",
        "        illumination += nearest_object['diffuse'] * light['diffuse'] * np.dot(intersection_to_light, normal_to_surface)\n",
        "\n",
        "        # specular\n",
        "        intersection_to_camera = normalize(camera - intersection)\n",
        "        H = normalize(intersection_to_light + intersection_to_camera)\n",
        "        illumination += nearest_object['specular'] * light['specular'] * np.dot(normal_to_surface, H) ** (nearest_object['shininess'] / 4)\n",
        "\n",
        "        image[i, j] = np.clip(illumination, 0, 1)\n",
        "\n",
        "plt.imsave('ball_3.png', image)"
      ],
      "execution_count": 1,
      "outputs": []
    },
    {
      "cell_type": "code",
      "metadata": {
        "id": "5_Vhe9hw0sRj"
      },
      "source": [
        ""
      ],
      "execution_count": null,
      "outputs": []
    }
  ]
}